{
 "cells": [
  {
   "cell_type": "markdown",
   "id": "OQSezRkDbJt7",
   "metadata": {
    "id": "OQSezRkDbJt7"
   },
   "source": [
    "# Tarea Final del Curso\n",
    "**Introducción a la Ciencia de Datos con Python**"
   ]
  },
  {
   "cell_type": "markdown",
   "id": "XGKFK_A8bJt_",
   "metadata": {
    "id": "XGKFK_A8bJt_"
   },
   "source": [
    "Fecha de entrega: Domingo 10 de agosto, 2025, 11:59pm\n",
    "\n",
    "**Instrucciones Generales:**\n",
    "\n",
    "- Esta es la entrega final y debe realizarse de manera grupal.\n",
    "- Es importante consignar en el correo de entrega, tanto los nombres y codigo de los integrantes del grupo.\n",
    "- Se considera un punto adicional a aquellos grupos que realizen la entrega por GITHUB, para ello deben ponerlo dentro de la carpeta Entregas_1, y nombre de archivo debe tener el formato: TrabajoFinal_GrupoX.ipynb\n",
    "- Asegúrate de seguir las buenas prácticas para nombrar variables y comentar tu código.\n",
    "- Utiliza las librerías vistas en clase: `numpy`, `pandas` y `matplotlib.pyplot`.\n",
    "- Responde a las preguntas teóricas o de interpretación en las celdas de Markdown designadas."
   ]
  },
  {
   "cell_type": "markdown",
   "id": "-knDLkMsbJuA",
   "metadata": {
    "id": "-knDLkMsbJuA"
   },
   "source": [
    "## Sección 1: NumPy - Manipulación Avanzada de Arrays"
   ]
  },
  {
   "cell_type": "markdown",
   "id": "y5tLDLYlbJuA",
   "metadata": {
    "id": "y5tLDLYlbJuA"
   },
   "source": [
    "**1.1.** Crea un array de NumPy llamado `vector_base` que contenga una secuencia de números desde 10 hasta 115 (inclusive), con un paso de 3 entre cada número."
   ]
  },
  {
   "cell_type": "code",
   "execution_count": null,
   "id": "wvj9SXYtbr3v",
   "metadata": {
    "id": "wvj9SXYtbr3v"
   },
   "outputs": [],
   "source": [
    "import numpy as np"
   ]
  },
  {
   "cell_type": "code",
   "execution_count": null,
   "id": "zydxLQoXaJXt",
   "metadata": {
    "colab": {
     "base_uri": "https://localhost:8080/"
    },
    "id": "zydxLQoXaJXt",
    "outputId": "63675d4c-bfc2-4348-b36d-9986fb211b82"
   },
   "outputs": [
    {
     "data": {
      "text/plain": [
       "array([ 10,  13,  16,  19,  22,  25,  28,  31,  34,  37,  40,  43,  46,\n",
       "        49,  52,  55,  58,  61,  64,  67,  70,  73,  76,  79,  82,  85,\n",
       "        88,  91,  94,  97, 100, 103, 106, 109, 112, 115])"
      ]
     },
     "execution_count": 89,
     "metadata": {},
     "output_type": "execute_result"
    }
   ],
   "source": [
    "vector_base = np.arange(10,116,3)\n",
    "vector_base"
   ]
  },
  {
   "cell_type": "markdown",
   "id": "983F8uePbJuB",
   "metadata": {
    "id": "983F8uePbJuB"
   },
   "source": [
    "**1.2.** A partir del `vector_base` anterior, crea una matriz de 5x7 llamada `matriz_A`."
   ]
  },
  {
   "cell_type": "code",
   "execution_count": null,
   "id": "dmOA_SNgbJuC",
   "metadata": {
    "colab": {
     "base_uri": "https://localhost:8080/"
    },
    "id": "dmOA_SNgbJuC",
    "outputId": "1f550043-f29e-4dd8-e09a-edfcb09cb105"
   },
   "outputs": [
    {
     "data": {
      "text/plain": [
       "array([[ 10,  13,  16,  19,  22,  25,  28],\n",
       "       [ 31,  34,  37,  40,  43,  46,  49],\n",
       "       [ 52,  55,  58,  61,  64,  67,  70],\n",
       "       [ 73,  76,  79,  82,  85,  88,  91],\n",
       "       [ 94,  97, 100, 103, 106, 109, 112]])"
      ]
     },
     "execution_count": 90,
     "metadata": {},
     "output_type": "execute_result"
    }
   ],
   "source": [
    "matriz_A =vector_base[:35].reshape(5, 7)\n",
    "matriz_A"
   ]
  },
  {
   "cell_type": "markdown",
   "id": "QoWq-H84bJuC",
   "metadata": {
    "id": "QoWq-H84bJuC"
   },
   "source": [
    "**2.1.** Crea una segunda matriz de 5x7 llamada `matriz_B` que contenga números enteros aleatorios entre 1 y 10.\n",
    "\n",
    "**2.2.** Realiza una multiplicación elemento por elemento (element-wise) entre `matriz_A` y `matriz_B` y almacena el resultado en `matriz_C`."
   ]
  },
  {
   "cell_type": "code",
   "execution_count": null,
   "id": "DDZDd-cfbJuD",
   "metadata": {
    "colab": {
     "base_uri": "https://localhost:8080/"
    },
    "id": "DDZDd-cfbJuD",
    "outputId": "1352fe89-8216-49f9-c452-dfb8e4ec6c0d"
   },
   "outputs": [
    {
     "data": {
      "text/plain": [
       "array([[ 9,  6,  8,  9,  4,  5, 10],\n",
       "       [ 2, 10,  5,  4,  1,  7,  2],\n",
       "       [ 7,  7,  1,  3,  8,  8,  4],\n",
       "       [ 4,  3,  2,  4,  1, 10,  2],\n",
       "       [ 1,  3,  1,  4,  1,  9,  9]])"
      ]
     },
     "execution_count": 91,
     "metadata": {},
     "output_type": "execute_result"
    }
   ],
   "source": [
    "matriz_B  = np.random.randint(1, 11, size=(5, 7))\n",
    "matriz_B"
   ]
  },
  {
   "cell_type": "code",
   "execution_count": null,
   "id": "B0n6xZ4mMiVd",
   "metadata": {
    "colab": {
     "base_uri": "https://localhost:8080/"
    },
    "id": "B0n6xZ4mMiVd",
    "outputId": "761e5f13-1740-4210-d160-3fe0dd19bb9f"
   },
   "outputs": [
    {
     "data": {
      "text/plain": [
       "array([[  90,   78,  128,  171,   88,  125,  280],\n",
       "       [  62,  340,  185,  160,   43,  322,   98],\n",
       "       [ 364,  385,   58,  183,  512,  536,  280],\n",
       "       [ 292,  228,  158,  328,   85,  880,  182],\n",
       "       [  94,  291,  100,  412,  106,  981, 1008]])"
      ]
     },
     "execution_count": 92,
     "metadata": {},
     "output_type": "execute_result"
    }
   ],
   "source": [
    "matriz_C = matriz_A * matriz_B\n",
    "matriz_C"
   ]
  },
  {
   "cell_type": "markdown",
   "id": "HhrCyWatbJuD",
   "metadata": {
    "id": "HhrCyWatbJuD"
   },
   "source": [
    "**3.1.** Utilizando slicing, selecciona una submatriz de 2x2 de la esquina inferior derecha de `matriz_C`.\n",
    "\n",
    "**3.2.** Calcula el promedio de esta submatriz."
   ]
  },
  {
   "cell_type": "code",
   "execution_count": null,
   "id": "dIlRtUE3bJuD",
   "metadata": {
    "colab": {
     "base_uri": "https://localhost:8080/"
    },
    "id": "dIlRtUE3bJuD",
    "outputId": "7b63db05-b156-4d1f-f75a-05b99a85b59c"
   },
   "outputs": [
    {
     "name": "stdout",
     "output_type": "stream",
     "text": [
      "[[ 880  182]\n",
      " [ 981 1008]]\n"
     ]
    }
   ],
   "source": [
    "\n",
    "\n",
    "submatriz = matriz_C[-2:, -2:]\n",
    "\n",
    "print(submatriz)"
   ]
  },
  {
   "cell_type": "markdown",
   "id": "gO0WijUnbJuE",
   "metadata": {
    "id": "gO0WijUnbJuE"
   },
   "source": [
    "## Sección 2: Pandas - Análisis Exploratorio de Datos"
   ]
  },
  {
   "cell_type": "markdown",
   "id": "SBXhc1V8bJuE",
   "metadata": {
    "id": "SBXhc1V8bJuE"
   },
   "source": [
    "Para esta sección, trabajaremos con un conjunto de datos ficticio sobre el desarrollo humano. **Ejecuta la siguiente celda para crear el DataFrame.**"
   ]
  },
  {
   "cell_type": "code",
   "execution_count": 1,
   "id": "iVR3JluqbJuE",
   "metadata": {
    "colab": {
     "base_uri": "https://localhost:8080/",
     "height": 206
    },
    "id": "iVR3JluqbJuE",
    "outputId": "f9344b45-917f-4e70-880f-ce024cd18a41"
   },
   "outputs": [
    {
     "data": {
      "text/html": [
       "<div>\n",
       "<style scoped>\n",
       "    .dataframe tbody tr th:only-of-type {\n",
       "        vertical-align: middle;\n",
       "    }\n",
       "\n",
       "    .dataframe tbody tr th {\n",
       "        vertical-align: top;\n",
       "    }\n",
       "\n",
       "    .dataframe thead th {\n",
       "        text-align: right;\n",
       "    }\n",
       "</style>\n",
       "<table border=\"1\" class=\"dataframe\">\n",
       "  <thead>\n",
       "    <tr style=\"text-align: right;\">\n",
       "      <th></th>\n",
       "      <th>Pais</th>\n",
       "      <th>Continente</th>\n",
       "      <th>Poblacion_millones</th>\n",
       "      <th>PBI_per_capita</th>\n",
       "      <th>Esperanza_de_vida</th>\n",
       "      <th>Indice_Gini</th>\n",
       "      <th>Tasa_Alfabetizacion</th>\n",
       "      <th>Crecimiento_Anual_PBI</th>\n",
       "    </tr>\n",
       "  </thead>\n",
       "  <tbody>\n",
       "    <tr>\n",
       "      <th>0</th>\n",
       "      <td>Perú</td>\n",
       "      <td>Sudamérica</td>\n",
       "      <td>33.0</td>\n",
       "      <td>7020</td>\n",
       "      <td>76.5</td>\n",
       "      <td>41.5</td>\n",
       "      <td>94.4</td>\n",
       "      <td>1.1</td>\n",
       "    </tr>\n",
       "    <tr>\n",
       "      <th>1</th>\n",
       "      <td>Argentina</td>\n",
       "      <td>Sudamérica</td>\n",
       "      <td>45.2</td>\n",
       "      <td>9912</td>\n",
       "      <td>76.7</td>\n",
       "      <td>42.9</td>\n",
       "      <td>99.0</td>\n",
       "      <td>-2.0</td>\n",
       "    </tr>\n",
       "    <tr>\n",
       "      <th>2</th>\n",
       "      <td>Chile</td>\n",
       "      <td>Sudamérica</td>\n",
       "      <td>19.5</td>\n",
       "      <td>15000</td>\n",
       "      <td>80.5</td>\n",
       "      <td>44.4</td>\n",
       "      <td>99.4</td>\n",
       "      <td>2.5</td>\n",
       "    </tr>\n",
       "    <tr>\n",
       "      <th>3</th>\n",
       "      <td>Colombia</td>\n",
       "      <td>Sudamérica</td>\n",
       "      <td>51.0</td>\n",
       "      <td>6500</td>\n",
       "      <td>77.3</td>\n",
       "      <td>51.3</td>\n",
       "      <td>95.1</td>\n",
       "      <td>3.0</td>\n",
       "    </tr>\n",
       "    <tr>\n",
       "      <th>4</th>\n",
       "      <td>Brasil</td>\n",
       "      <td>Sudamérica</td>\n",
       "      <td>212.6</td>\n",
       "      <td>8717</td>\n",
       "      <td>75.9</td>\n",
       "      <td>53.9</td>\n",
       "      <td>93.2</td>\n",
       "      <td>1.4</td>\n",
       "    </tr>\n",
       "  </tbody>\n",
       "</table>\n",
       "</div>"
      ],
      "text/plain": [
       "        Pais  Continente  Poblacion_millones  PBI_per_capita  \\\n",
       "0       Perú  Sudamérica                33.0            7020   \n",
       "1  Argentina  Sudamérica                45.2            9912   \n",
       "2      Chile  Sudamérica                19.5           15000   \n",
       "3   Colombia  Sudamérica                51.0            6500   \n",
       "4     Brasil  Sudamérica               212.6            8717   \n",
       "\n",
       "   Esperanza_de_vida  Indice_Gini  Tasa_Alfabetizacion  Crecimiento_Anual_PBI  \n",
       "0               76.5         41.5                 94.4                    1.1  \n",
       "1               76.7         42.9                 99.0                   -2.0  \n",
       "2               80.5         44.4                 99.4                    2.5  \n",
       "3               77.3         51.3                 95.1                    3.0  \n",
       "4               75.9         53.9                 93.2                    1.4  "
      ]
     },
     "execution_count": 1,
     "metadata": {},
     "output_type": "execute_result"
    }
   ],
   "source": [
    "import pandas as pd\n",
    "import numpy as np\n",
    "\n",
    "data = {\n",
    "    'Pais': ['Perú', 'Argentina', 'Chile', 'Colombia', 'Brasil', 'México', 'Uruguay', 'España', 'Canadá', 'Japón'],\n",
    "    'Continente': ['Sudamérica', 'Sudamérica', 'Sudamérica', 'Sudamérica', 'Sudamérica', 'Norteamérica', 'Sudamérica', 'Europa', 'Norteamérica', 'Asia'],\n",
    "    'Poblacion_millones': [33.0, 45.2, 19.5, 51.0, 212.6, 128.9, 3.5, 47.4, 38.0, 125.8],\n",
    "    'PBI_per_capita': [7020, 9912, 15000, 6500, 8717, 9863, 16190, 29600, 46194, 40700],\n",
    "    'Esperanza_de_vida': [76.5, 76.7, 80.5, 77.3, 75.9, 75.0, 77.9, 83.6, 82.3, 84.6],\n",
    "    'Indice_Gini': [41.5, 42.9, 44.4, 51.3, 53.9, 45.4, 39.7, 34.7, 33.3, 32.9],\n",
    "    'Tasa_Alfabetizacion': [94.4, 99.0, 99.4, 95.1, 93.2, 95.4, np.nan, 98.4, 99.0, 99.0],\n",
    "    'Crecimiento_Anual_PBI': [1.1, -2.0, 2.5, 3.0, 1.4, 2.1, 2.0, 2.5, 1.9, 0.8]\n",
    "}\n",
    "\n",
    "df_desarrollo = pd.DataFrame(data)\n",
    "df_desarrollo.head()"
   ]
  },
  {
   "cell_type": "markdown",
   "id": "CFYuSgcfbJuF",
   "metadata": {
    "id": "CFYuSgcfbJuF"
   },
   "source": [
    "**4.1.** Muestra las primeras 5 filas del DataFrame `df_desarrollo`.\n",
    "\n",
    "**4.2.** Muestra un resumen general del DataFrame utilizando `.info()`."
   ]
  },
  {
   "cell_type": "code",
   "execution_count": 2,
   "id": "fiJXvGwgbJuF",
   "metadata": {
    "colab": {
     "base_uri": "https://localhost:8080/"
    },
    "id": "fiJXvGwgbJuF",
    "outputId": "579fafc0-f006-418c-fff0-cd9779bb6698"
   },
   "outputs": [
    {
     "name": "stdout",
     "output_type": "stream",
     "text": [
      "<class 'pandas.core.frame.DataFrame'>\n",
      "RangeIndex: 10 entries, 0 to 9\n",
      "Data columns (total 8 columns):\n",
      " #   Column                 Non-Null Count  Dtype  \n",
      "---  ------                 --------------  -----  \n",
      " 0   Pais                   10 non-null     object \n",
      " 1   Continente             10 non-null     object \n",
      " 2   Poblacion_millones     10 non-null     float64\n",
      " 3   PBI_per_capita         10 non-null     int64  \n",
      " 4   Esperanza_de_vida      10 non-null     float64\n",
      " 5   Indice_Gini            10 non-null     float64\n",
      " 6   Tasa_Alfabetizacion    9 non-null      float64\n",
      " 7   Crecimiento_Anual_PBI  10 non-null     float64\n",
      "dtypes: float64(5), int64(1), object(2)\n",
      "memory usage: 772.0+ bytes\n"
     ]
    }
   ],
   "source": [
    "df_desarrollo.info()"
   ]
  },
  {
   "cell_type": "markdown",
   "id": "mlZeIBfFbJuG",
   "metadata": {
    "id": "mlZeIBfFbJuG"
   },
   "source": [
    "**5.** Hemos notado que hay un valor faltante (`NaN`) en la columna `Tasa_Alfabetizacion`. Imputa este valor faltante utilizando la **mediana** de esa misma columna."
   ]
  },
  {
   "cell_type": "code",
   "execution_count": 3,
   "id": "JPWPLHX8bJuG",
   "metadata": {
    "colab": {
     "base_uri": "https://localhost:8080/",
     "height": 504
    },
    "id": "JPWPLHX8bJuG",
    "outputId": "f2df1928-bf04-415c-f861-9678a57ced3f"
   },
   "outputs": [
    {
     "data": {
      "text/html": [
       "<div>\n",
       "<style scoped>\n",
       "    .dataframe tbody tr th:only-of-type {\n",
       "        vertical-align: middle;\n",
       "    }\n",
       "\n",
       "    .dataframe tbody tr th {\n",
       "        vertical-align: top;\n",
       "    }\n",
       "\n",
       "    .dataframe thead th {\n",
       "        text-align: right;\n",
       "    }\n",
       "</style>\n",
       "<table border=\"1\" class=\"dataframe\">\n",
       "  <thead>\n",
       "    <tr style=\"text-align: right;\">\n",
       "      <th></th>\n",
       "      <th>Pais</th>\n",
       "      <th>Continente</th>\n",
       "      <th>Poblacion_millones</th>\n",
       "      <th>PBI_per_capita</th>\n",
       "      <th>Esperanza_de_vida</th>\n",
       "      <th>Indice_Gini</th>\n",
       "      <th>Tasa_Alfabetizacion</th>\n",
       "      <th>Crecimiento_Anual_PBI</th>\n",
       "    </tr>\n",
       "  </thead>\n",
       "  <tbody>\n",
       "    <tr>\n",
       "      <th>0</th>\n",
       "      <td>Perú</td>\n",
       "      <td>Sudamérica</td>\n",
       "      <td>33.0</td>\n",
       "      <td>7020</td>\n",
       "      <td>76.5</td>\n",
       "      <td>41.5</td>\n",
       "      <td>94.4</td>\n",
       "      <td>1.1</td>\n",
       "    </tr>\n",
       "    <tr>\n",
       "      <th>1</th>\n",
       "      <td>Argentina</td>\n",
       "      <td>Sudamérica</td>\n",
       "      <td>45.2</td>\n",
       "      <td>9912</td>\n",
       "      <td>76.7</td>\n",
       "      <td>42.9</td>\n",
       "      <td>99.0</td>\n",
       "      <td>-2.0</td>\n",
       "    </tr>\n",
       "    <tr>\n",
       "      <th>2</th>\n",
       "      <td>Chile</td>\n",
       "      <td>Sudamérica</td>\n",
       "      <td>19.5</td>\n",
       "      <td>15000</td>\n",
       "      <td>80.5</td>\n",
       "      <td>44.4</td>\n",
       "      <td>99.4</td>\n",
       "      <td>2.5</td>\n",
       "    </tr>\n",
       "    <tr>\n",
       "      <th>3</th>\n",
       "      <td>Colombia</td>\n",
       "      <td>Sudamérica</td>\n",
       "      <td>51.0</td>\n",
       "      <td>6500</td>\n",
       "      <td>77.3</td>\n",
       "      <td>51.3</td>\n",
       "      <td>95.1</td>\n",
       "      <td>3.0</td>\n",
       "    </tr>\n",
       "    <tr>\n",
       "      <th>4</th>\n",
       "      <td>Brasil</td>\n",
       "      <td>Sudamérica</td>\n",
       "      <td>212.6</td>\n",
       "      <td>8717</td>\n",
       "      <td>75.9</td>\n",
       "      <td>53.9</td>\n",
       "      <td>93.2</td>\n",
       "      <td>1.4</td>\n",
       "    </tr>\n",
       "    <tr>\n",
       "      <th>5</th>\n",
       "      <td>México</td>\n",
       "      <td>Norteamérica</td>\n",
       "      <td>128.9</td>\n",
       "      <td>9863</td>\n",
       "      <td>75.0</td>\n",
       "      <td>45.4</td>\n",
       "      <td>95.4</td>\n",
       "      <td>2.1</td>\n",
       "    </tr>\n",
       "    <tr>\n",
       "      <th>6</th>\n",
       "      <td>Uruguay</td>\n",
       "      <td>Sudamérica</td>\n",
       "      <td>3.5</td>\n",
       "      <td>16190</td>\n",
       "      <td>77.9</td>\n",
       "      <td>39.7</td>\n",
       "      <td>98.4</td>\n",
       "      <td>2.0</td>\n",
       "    </tr>\n",
       "    <tr>\n",
       "      <th>7</th>\n",
       "      <td>España</td>\n",
       "      <td>Europa</td>\n",
       "      <td>47.4</td>\n",
       "      <td>29600</td>\n",
       "      <td>83.6</td>\n",
       "      <td>34.7</td>\n",
       "      <td>98.4</td>\n",
       "      <td>2.5</td>\n",
       "    </tr>\n",
       "    <tr>\n",
       "      <th>8</th>\n",
       "      <td>Canadá</td>\n",
       "      <td>Norteamérica</td>\n",
       "      <td>38.0</td>\n",
       "      <td>46194</td>\n",
       "      <td>82.3</td>\n",
       "      <td>33.3</td>\n",
       "      <td>99.0</td>\n",
       "      <td>1.9</td>\n",
       "    </tr>\n",
       "    <tr>\n",
       "      <th>9</th>\n",
       "      <td>Japón</td>\n",
       "      <td>Asia</td>\n",
       "      <td>125.8</td>\n",
       "      <td>40700</td>\n",
       "      <td>84.6</td>\n",
       "      <td>32.9</td>\n",
       "      <td>99.0</td>\n",
       "      <td>0.8</td>\n",
       "    </tr>\n",
       "  </tbody>\n",
       "</table>\n",
       "</div>"
      ],
      "text/plain": [
       "        Pais    Continente  Poblacion_millones  PBI_per_capita  \\\n",
       "0       Perú    Sudamérica                33.0            7020   \n",
       "1  Argentina    Sudamérica                45.2            9912   \n",
       "2      Chile    Sudamérica                19.5           15000   \n",
       "3   Colombia    Sudamérica                51.0            6500   \n",
       "4     Brasil    Sudamérica               212.6            8717   \n",
       "5     México  Norteamérica               128.9            9863   \n",
       "6    Uruguay    Sudamérica                 3.5           16190   \n",
       "7     España        Europa                47.4           29600   \n",
       "8     Canadá  Norteamérica                38.0           46194   \n",
       "9      Japón          Asia               125.8           40700   \n",
       "\n",
       "   Esperanza_de_vida  Indice_Gini  Tasa_Alfabetizacion  Crecimiento_Anual_PBI  \n",
       "0               76.5         41.5                 94.4                    1.1  \n",
       "1               76.7         42.9                 99.0                   -2.0  \n",
       "2               80.5         44.4                 99.4                    2.5  \n",
       "3               77.3         51.3                 95.1                    3.0  \n",
       "4               75.9         53.9                 93.2                    1.4  \n",
       "5               75.0         45.4                 95.4                    2.1  \n",
       "6               77.9         39.7                 98.4                    2.0  \n",
       "7               83.6         34.7                 98.4                    2.5  \n",
       "8               82.3         33.3                 99.0                    1.9  \n",
       "9               84.6         32.9                 99.0                    0.8  "
      ]
     },
     "execution_count": 3,
     "metadata": {},
     "output_type": "execute_result"
    }
   ],
   "source": [
    "mediana_tasa = df_desarrollo[\"Tasa_Alfabetizacion\"].median()\n",
    "df_desarrollo[\"Tasa_Alfabetizacion\"].fillna(mediana_tasa, inplace=True)\n",
    "df_desarrollo"
   ]
  },
  {
   "cell_type": "markdown",
   "id": "qo0004XubJuG",
   "metadata": {
    "id": "qo0004XubJuG"
   },
   "source": [
    "**6.1.** Crea una nueva columna llamada `PBI_Total_billones` que sea el resultado de multiplicar `PBI_per_capita` por `Poblacion_millones` y dividirlo entre 1000.\n",
    "\n",
    "**6.2.** Muestra el DataFrame con la nueva columna."
   ]
  },
  {
   "cell_type": "code",
   "execution_count": null,
   "id": "ZVX-OPAybJuG",
   "metadata": {
    "colab": {
     "base_uri": "https://localhost:8080/"
    },
    "id": "ZVX-OPAybJuG",
    "outputId": "77c90d1a-8058-4c89-c15f-7a990fe1bffa"
   },
   "outputs": [
    {
     "name": "stdout",
     "output_type": "stream",
     "text": [
      "  Pais  Poblacion_millones  PBI_per_capita  PBI_Total_billones\n",
      "0    A                  50           10000               500.0\n",
      "1    B                  30           15000               450.0\n",
      "2    C                  80            8000               640.0\n",
      "3    D                  20           20000               400.0\n"
     ]
    }
   ],
   "source": [
    "import pandas as pd\n",
    "# DataFrame inicial\n",
    "df = pd.DataFrame({\n",
    "    'Pais': ['A', 'B', 'C', 'D'],\n",
    "    'Poblacion_millones': [50, 30, 80, 20],\n",
    "    'PBI_per_capita': [10000, 15000, 8000, 20000]})\n",
    "\n",
    "# 6.1: Crear la nueva columna\n",
    "df['PBI_Total_billones'] = (df['PBI_per_capita'] * df['Poblacion_millones']) / 1000\n",
    "\n",
    "# 6.2: Mostrar el DataFrame\n",
    "print(df)"
   ]
  },
  {
   "cell_type": "markdown",
   "id": "t8u-hYwUbJuG",
   "metadata": {
    "id": "t8u-hYwUbJuG"
   },
   "source": [
    "**7.** Crea una nueva columna condicional `Categoria_Desarrollo`. Clasifica a los países según las siguientes reglas:\n",
    "- 'Alto': Si `Esperanza_de_vida` > 80 Y `PBI_per_capita` > 25000.\n",
    "- 'Medio-Alto': Si `Esperanza_de_vida` > 76 Y `PBI_per_capita` > 8000.\n",
    "- 'Medio': Para todos los demás casos."
   ]
  },
  {
   "cell_type": "code",
   "execution_count": null,
   "id": "VXJB6DAubJuG",
   "metadata": {
    "colab": {
     "base_uri": "https://localhost:8080/"
    },
    "id": "VXJB6DAubJuG",
    "outputId": "97cc2cf5-468c-4c1e-dbc5-2b2742eb6d5c"
   },
   "outputs": [
    {
     "name": "stdout",
     "output_type": "stream",
     "text": [
      "        Pais  PBI_per_capita  Esperanza_de_vida Categoria_Desarrollo\n",
      "0       Perú            7020               76.5                Medio\n",
      "1  Argentina            9912               76.7           Medio-Alto\n",
      "2      Chile           15000               80.5           Medio-Alto\n",
      "3   Colombia            6500               77.3                Medio\n",
      "4     Brasil            8717               75.9                Medio\n",
      "5     México            9863               75.0                Medio\n",
      "6    Uruguay           16190               77.9           Medio-Alto\n",
      "7     España           29600               83.6                 Alto\n",
      "8     Canadá           46194               82.3                 Alto\n",
      "9      Japón           40700               84.6                 Alto\n"
     ]
    }
   ],
   "source": [
    "import numpy as np\n",
    "\n",
    "# columna condicional\n",
    "def clasificar_desarrollo(fila):\n",
    "    if fila[\"Esperanza_de_vida\"] > 80 and fila[\"PBI_per_capita\"] > 25000:\n",
    "        return \"Alto\"\n",
    "    elif fila[\"Esperanza_de_vida\"] > 76 and fila[\"PBI_per_capita\"] > 8000:\n",
    "        return \"Medio-Alto\"\n",
    "    else:\n",
    "        return \"Medio\"\n",
    "\n",
    "df_desarrollo[\"Categoria_Desarrollo\"] = df_desarrollo.apply(clasificar_desarrollo, axis=1)\n",
    "\n",
    "print(df_desarrollo[[\"Pais\", \"PBI_per_capita\", \"Esperanza_de_vida\", \"Categoria_Desarrollo\"]])"
   ]
  },
  {
   "cell_type": "markdown",
   "id": "2CjwamlPbJuG",
   "metadata": {
    "id": "2CjwamlPbJuG"
   },
   "source": [
    "**8.1.** Filtra el DataFrame para encontrar los países de 'Sudamérica' con un `Indice_Gini` menor a 45.\n",
    "\n",
    "**8.2.** Ordena el resultado del filtro anterior por `PBI_per_capita` de forma descendente."
   ]
  },
  {
   "cell_type": "code",
   "execution_count": null,
   "id": "KcaeffT-bJuG",
   "metadata": {
    "colab": {
     "base_uri": "https://localhost:8080/",
     "height": 195
    },
    "id": "KcaeffT-bJuG",
    "outputId": "bd35d3f1-a3bd-4713-d2a3-c478a05c96a3"
   },
   "outputs": [
    {
     "data": {
      "application/vnd.google.colaboratory.intrinsic+json": {
       "summary": "{\n  \"name\": \"sudam\\u00e9rica\",\n  \"rows\": 4,\n  \"fields\": [\n    {\n      \"column\": \"Pais\",\n      \"properties\": {\n        \"dtype\": \"string\",\n        \"num_unique_values\": 4,\n        \"samples\": [\n          \"Argentina\",\n          \"Uruguay\",\n          \"Per\\u00fa\"\n        ],\n        \"semantic_type\": \"\",\n        \"description\": \"\"\n      }\n    },\n    {\n      \"column\": \"Continente\",\n      \"properties\": {\n        \"dtype\": \"category\",\n        \"num_unique_values\": 1,\n        \"samples\": [\n          \"Sudam\\u00e9rica\"\n        ],\n        \"semantic_type\": \"\",\n        \"description\": \"\"\n      }\n    },\n    {\n      \"column\": \"Poblacion_millones\",\n      \"properties\": {\n        \"dtype\": \"number\",\n        \"std\": 17.927446369556748,\n        \"min\": 3.5,\n        \"max\": 45.2,\n        \"num_unique_values\": 4,\n        \"samples\": [\n          45.2\n        ],\n        \"semantic_type\": \"\",\n        \"description\": \"\"\n      }\n    },\n    {\n      \"column\": \"PBI_per_capita\",\n      \"properties\": {\n        \"dtype\": \"number\",\n        \"std\": 4309,\n        \"min\": 7020,\n        \"max\": 16190,\n        \"num_unique_values\": 4,\n        \"samples\": [\n          9912\n        ],\n        \"semantic_type\": \"\",\n        \"description\": \"\"\n      }\n    },\n    {\n      \"column\": \"Esperanza_de_vida\",\n      \"properties\": {\n        \"dtype\": \"number\",\n        \"std\": 1.8402898322456342,\n        \"min\": 76.5,\n        \"max\": 80.5,\n        \"num_unique_values\": 4,\n        \"samples\": [\n          76.7\n        ],\n        \"semantic_type\": \"\",\n        \"description\": \"\"\n      }\n    },\n    {\n      \"column\": \"Indice_Gini\",\n      \"properties\": {\n        \"dtype\": \"number\",\n        \"std\": 2.0039544239661056,\n        \"min\": 39.7,\n        \"max\": 44.4,\n        \"num_unique_values\": 4,\n        \"samples\": [\n          42.9\n        ],\n        \"semantic_type\": \"\",\n        \"description\": \"\"\n      }\n    },\n    {\n      \"column\": \"Tasa_Alfabetizacion\",\n      \"properties\": {\n        \"dtype\": \"number\",\n        \"std\": 2.303620339089465,\n        \"min\": 94.4,\n        \"max\": 99.4,\n        \"num_unique_values\": 4,\n        \"samples\": [\n          99.0\n        ],\n        \"semantic_type\": \"\",\n        \"description\": \"\"\n      }\n    },\n    {\n      \"column\": \"Crecimiento_Anual_PBI\",\n      \"properties\": {\n        \"dtype\": \"number\",\n        \"std\": 2.0182500670960803,\n        \"min\": -2.0,\n        \"max\": 2.5,\n        \"num_unique_values\": 4,\n        \"samples\": [\n          -2.0\n        ],\n        \"semantic_type\": \"\",\n        \"description\": \"\"\n      }\n    },\n    {\n      \"column\": \"Categoria_Desarrollo\",\n      \"properties\": {\n        \"dtype\": \"string\",\n        \"num_unique_values\": 2,\n        \"samples\": [\n          \"Medio-Alto\"\n        ],\n        \"semantic_type\": \"\",\n        \"description\": \"\"\n      }\n    }\n  ]\n}",
       "type": "dataframe",
       "variable_name": "sudamérica"
      },
      "text/html": [
       "\n",
       "  <div id=\"df-406d02a1-1961-481c-a52a-860e064c1dc9\" class=\"colab-df-container\">\n",
       "    <div>\n",
       "<style scoped>\n",
       "    .dataframe tbody tr th:only-of-type {\n",
       "        vertical-align: middle;\n",
       "    }\n",
       "\n",
       "    .dataframe tbody tr th {\n",
       "        vertical-align: top;\n",
       "    }\n",
       "\n",
       "    .dataframe thead th {\n",
       "        text-align: right;\n",
       "    }\n",
       "</style>\n",
       "<table border=\"1\" class=\"dataframe\">\n",
       "  <thead>\n",
       "    <tr style=\"text-align: right;\">\n",
       "      <th></th>\n",
       "      <th>Pais</th>\n",
       "      <th>Continente</th>\n",
       "      <th>Poblacion_millones</th>\n",
       "      <th>PBI_per_capita</th>\n",
       "      <th>Esperanza_de_vida</th>\n",
       "      <th>Indice_Gini</th>\n",
       "      <th>Tasa_Alfabetizacion</th>\n",
       "      <th>Crecimiento_Anual_PBI</th>\n",
       "      <th>Categoria_Desarrollo</th>\n",
       "    </tr>\n",
       "  </thead>\n",
       "  <tbody>\n",
       "    <tr>\n",
       "      <th>0</th>\n",
       "      <td>Perú</td>\n",
       "      <td>Sudamérica</td>\n",
       "      <td>33.0</td>\n",
       "      <td>7020</td>\n",
       "      <td>76.5</td>\n",
       "      <td>41.5</td>\n",
       "      <td>94.4</td>\n",
       "      <td>1.1</td>\n",
       "      <td>Medio</td>\n",
       "    </tr>\n",
       "    <tr>\n",
       "      <th>1</th>\n",
       "      <td>Argentina</td>\n",
       "      <td>Sudamérica</td>\n",
       "      <td>45.2</td>\n",
       "      <td>9912</td>\n",
       "      <td>76.7</td>\n",
       "      <td>42.9</td>\n",
       "      <td>99.0</td>\n",
       "      <td>-2.0</td>\n",
       "      <td>Medio-Alto</td>\n",
       "    </tr>\n",
       "    <tr>\n",
       "      <th>2</th>\n",
       "      <td>Chile</td>\n",
       "      <td>Sudamérica</td>\n",
       "      <td>19.5</td>\n",
       "      <td>15000</td>\n",
       "      <td>80.5</td>\n",
       "      <td>44.4</td>\n",
       "      <td>99.4</td>\n",
       "      <td>2.5</td>\n",
       "      <td>Medio-Alto</td>\n",
       "    </tr>\n",
       "    <tr>\n",
       "      <th>6</th>\n",
       "      <td>Uruguay</td>\n",
       "      <td>Sudamérica</td>\n",
       "      <td>3.5</td>\n",
       "      <td>16190</td>\n",
       "      <td>77.9</td>\n",
       "      <td>39.7</td>\n",
       "      <td>98.4</td>\n",
       "      <td>2.0</td>\n",
       "      <td>Medio-Alto</td>\n",
       "    </tr>\n",
       "  </tbody>\n",
       "</table>\n",
       "</div>\n",
       "    <div class=\"colab-df-buttons\">\n",
       "\n",
       "  <div class=\"colab-df-container\">\n",
       "    <button class=\"colab-df-convert\" onclick=\"convertToInteractive('df-406d02a1-1961-481c-a52a-860e064c1dc9')\"\n",
       "            title=\"Convert this dataframe to an interactive table.\"\n",
       "            style=\"display:none;\">\n",
       "\n",
       "  <svg xmlns=\"http://www.w3.org/2000/svg\" height=\"24px\" viewBox=\"0 -960 960 960\">\n",
       "    <path d=\"M120-120v-720h720v720H120Zm60-500h600v-160H180v160Zm220 220h160v-160H400v160Zm0 220h160v-160H400v160ZM180-400h160v-160H180v160Zm440 0h160v-160H620v160ZM180-180h160v-160H180v160Zm440 0h160v-160H620v160Z\"/>\n",
       "  </svg>\n",
       "    </button>\n",
       "\n",
       "  <style>\n",
       "    .colab-df-container {\n",
       "      display:flex;\n",
       "      gap: 12px;\n",
       "    }\n",
       "\n",
       "    .colab-df-convert {\n",
       "      background-color: #E8F0FE;\n",
       "      border: none;\n",
       "      border-radius: 50%;\n",
       "      cursor: pointer;\n",
       "      display: none;\n",
       "      fill: #1967D2;\n",
       "      height: 32px;\n",
       "      padding: 0 0 0 0;\n",
       "      width: 32px;\n",
       "    }\n",
       "\n",
       "    .colab-df-convert:hover {\n",
       "      background-color: #E2EBFA;\n",
       "      box-shadow: 0px 1px 2px rgba(60, 64, 67, 0.3), 0px 1px 3px 1px rgba(60, 64, 67, 0.15);\n",
       "      fill: #174EA6;\n",
       "    }\n",
       "\n",
       "    .colab-df-buttons div {\n",
       "      margin-bottom: 4px;\n",
       "    }\n",
       "\n",
       "    [theme=dark] .colab-df-convert {\n",
       "      background-color: #3B4455;\n",
       "      fill: #D2E3FC;\n",
       "    }\n",
       "\n",
       "    [theme=dark] .colab-df-convert:hover {\n",
       "      background-color: #434B5C;\n",
       "      box-shadow: 0px 1px 3px 1px rgba(0, 0, 0, 0.15);\n",
       "      filter: drop-shadow(0px 1px 2px rgba(0, 0, 0, 0.3));\n",
       "      fill: #FFFFFF;\n",
       "    }\n",
       "  </style>\n",
       "\n",
       "    <script>\n",
       "      const buttonEl =\n",
       "        document.querySelector('#df-406d02a1-1961-481c-a52a-860e064c1dc9 button.colab-df-convert');\n",
       "      buttonEl.style.display =\n",
       "        google.colab.kernel.accessAllowed ? 'block' : 'none';\n",
       "\n",
       "      async function convertToInteractive(key) {\n",
       "        const element = document.querySelector('#df-406d02a1-1961-481c-a52a-860e064c1dc9');\n",
       "        const dataTable =\n",
       "          await google.colab.kernel.invokeFunction('convertToInteractive',\n",
       "                                                    [key], {});\n",
       "        if (!dataTable) return;\n",
       "\n",
       "        const docLinkHtml = 'Like what you see? Visit the ' +\n",
       "          '<a target=\"_blank\" href=https://colab.research.google.com/notebooks/data_table.ipynb>data table notebook</a>'\n",
       "          + ' to learn more about interactive tables.';\n",
       "        element.innerHTML = '';\n",
       "        dataTable['output_type'] = 'display_data';\n",
       "        await google.colab.output.renderOutput(dataTable, element);\n",
       "        const docLink = document.createElement('div');\n",
       "        docLink.innerHTML = docLinkHtml;\n",
       "        element.appendChild(docLink);\n",
       "      }\n",
       "    </script>\n",
       "  </div>\n",
       "\n",
       "\n",
       "    <div id=\"df-a11b02b6-f70f-40f4-bed4-b0fe5c7dac35\">\n",
       "      <button class=\"colab-df-quickchart\" onclick=\"quickchart('df-a11b02b6-f70f-40f4-bed4-b0fe5c7dac35')\"\n",
       "                title=\"Suggest charts\"\n",
       "                style=\"display:none;\">\n",
       "\n",
       "<svg xmlns=\"http://www.w3.org/2000/svg\" height=\"24px\"viewBox=\"0 0 24 24\"\n",
       "     width=\"24px\">\n",
       "    <g>\n",
       "        <path d=\"M19 3H5c-1.1 0-2 .9-2 2v14c0 1.1.9 2 2 2h14c1.1 0 2-.9 2-2V5c0-1.1-.9-2-2-2zM9 17H7v-7h2v7zm4 0h-2V7h2v10zm4 0h-2v-4h2v4z\"/>\n",
       "    </g>\n",
       "</svg>\n",
       "      </button>\n",
       "\n",
       "<style>\n",
       "  .colab-df-quickchart {\n",
       "      --bg-color: #E8F0FE;\n",
       "      --fill-color: #1967D2;\n",
       "      --hover-bg-color: #E2EBFA;\n",
       "      --hover-fill-color: #174EA6;\n",
       "      --disabled-fill-color: #AAA;\n",
       "      --disabled-bg-color: #DDD;\n",
       "  }\n",
       "\n",
       "  [theme=dark] .colab-df-quickchart {\n",
       "      --bg-color: #3B4455;\n",
       "      --fill-color: #D2E3FC;\n",
       "      --hover-bg-color: #434B5C;\n",
       "      --hover-fill-color: #FFFFFF;\n",
       "      --disabled-bg-color: #3B4455;\n",
       "      --disabled-fill-color: #666;\n",
       "  }\n",
       "\n",
       "  .colab-df-quickchart {\n",
       "    background-color: var(--bg-color);\n",
       "    border: none;\n",
       "    border-radius: 50%;\n",
       "    cursor: pointer;\n",
       "    display: none;\n",
       "    fill: var(--fill-color);\n",
       "    height: 32px;\n",
       "    padding: 0;\n",
       "    width: 32px;\n",
       "  }\n",
       "\n",
       "  .colab-df-quickchart:hover {\n",
       "    background-color: var(--hover-bg-color);\n",
       "    box-shadow: 0 1px 2px rgba(60, 64, 67, 0.3), 0 1px 3px 1px rgba(60, 64, 67, 0.15);\n",
       "    fill: var(--button-hover-fill-color);\n",
       "  }\n",
       "\n",
       "  .colab-df-quickchart-complete:disabled,\n",
       "  .colab-df-quickchart-complete:disabled:hover {\n",
       "    background-color: var(--disabled-bg-color);\n",
       "    fill: var(--disabled-fill-color);\n",
       "    box-shadow: none;\n",
       "  }\n",
       "\n",
       "  .colab-df-spinner {\n",
       "    border: 2px solid var(--fill-color);\n",
       "    border-color: transparent;\n",
       "    border-bottom-color: var(--fill-color);\n",
       "    animation:\n",
       "      spin 1s steps(1) infinite;\n",
       "  }\n",
       "\n",
       "  @keyframes spin {\n",
       "    0% {\n",
       "      border-color: transparent;\n",
       "      border-bottom-color: var(--fill-color);\n",
       "      border-left-color: var(--fill-color);\n",
       "    }\n",
       "    20% {\n",
       "      border-color: transparent;\n",
       "      border-left-color: var(--fill-color);\n",
       "      border-top-color: var(--fill-color);\n",
       "    }\n",
       "    30% {\n",
       "      border-color: transparent;\n",
       "      border-left-color: var(--fill-color);\n",
       "      border-top-color: var(--fill-color);\n",
       "      border-right-color: var(--fill-color);\n",
       "    }\n",
       "    40% {\n",
       "      border-color: transparent;\n",
       "      border-right-color: var(--fill-color);\n",
       "      border-top-color: var(--fill-color);\n",
       "    }\n",
       "    60% {\n",
       "      border-color: transparent;\n",
       "      border-right-color: var(--fill-color);\n",
       "    }\n",
       "    80% {\n",
       "      border-color: transparent;\n",
       "      border-right-color: var(--fill-color);\n",
       "      border-bottom-color: var(--fill-color);\n",
       "    }\n",
       "    90% {\n",
       "      border-color: transparent;\n",
       "      border-bottom-color: var(--fill-color);\n",
       "    }\n",
       "  }\n",
       "</style>\n",
       "\n",
       "      <script>\n",
       "        async function quickchart(key) {\n",
       "          const quickchartButtonEl =\n",
       "            document.querySelector('#' + key + ' button');\n",
       "          quickchartButtonEl.disabled = true;  // To prevent multiple clicks.\n",
       "          quickchartButtonEl.classList.add('colab-df-spinner');\n",
       "          try {\n",
       "            const charts = await google.colab.kernel.invokeFunction(\n",
       "                'suggestCharts', [key], {});\n",
       "          } catch (error) {\n",
       "            console.error('Error during call to suggestCharts:', error);\n",
       "          }\n",
       "          quickchartButtonEl.classList.remove('colab-df-spinner');\n",
       "          quickchartButtonEl.classList.add('colab-df-quickchart-complete');\n",
       "        }\n",
       "        (() => {\n",
       "          let quickchartButtonEl =\n",
       "            document.querySelector('#df-a11b02b6-f70f-40f4-bed4-b0fe5c7dac35 button');\n",
       "          quickchartButtonEl.style.display =\n",
       "            google.colab.kernel.accessAllowed ? 'block' : 'none';\n",
       "        })();\n",
       "      </script>\n",
       "    </div>\n",
       "\n",
       "  <div id=\"id_45713663-1806-480e-b023-efda396a950b\">\n",
       "    <style>\n",
       "      .colab-df-generate {\n",
       "        background-color: #E8F0FE;\n",
       "        border: none;\n",
       "        border-radius: 50%;\n",
       "        cursor: pointer;\n",
       "        display: none;\n",
       "        fill: #1967D2;\n",
       "        height: 32px;\n",
       "        padding: 0 0 0 0;\n",
       "        width: 32px;\n",
       "      }\n",
       "\n",
       "      .colab-df-generate:hover {\n",
       "        background-color: #E2EBFA;\n",
       "        box-shadow: 0px 1px 2px rgba(60, 64, 67, 0.3), 0px 1px 3px 1px rgba(60, 64, 67, 0.15);\n",
       "        fill: #174EA6;\n",
       "      }\n",
       "\n",
       "      [theme=dark] .colab-df-generate {\n",
       "        background-color: #3B4455;\n",
       "        fill: #D2E3FC;\n",
       "      }\n",
       "\n",
       "      [theme=dark] .colab-df-generate:hover {\n",
       "        background-color: #434B5C;\n",
       "        box-shadow: 0px 1px 3px 1px rgba(0, 0, 0, 0.15);\n",
       "        filter: drop-shadow(0px 1px 2px rgba(0, 0, 0, 0.3));\n",
       "        fill: #FFFFFF;\n",
       "      }\n",
       "    </style>\n",
       "    <button class=\"colab-df-generate\" onclick=\"generateWithVariable('sudamérica')\"\n",
       "            title=\"Generate code using this dataframe.\"\n",
       "            style=\"display:none;\">\n",
       "\n",
       "  <svg xmlns=\"http://www.w3.org/2000/svg\" height=\"24px\"viewBox=\"0 0 24 24\"\n",
       "       width=\"24px\">\n",
       "    <path d=\"M7,19H8.4L18.45,9,17,7.55,7,17.6ZM5,21V16.75L18.45,3.32a2,2,0,0,1,2.83,0l1.4,1.43a1.91,1.91,0,0,1,.58,1.4,1.91,1.91,0,0,1-.58,1.4L9.25,21ZM18.45,9,17,7.55Zm-12,3A5.31,5.31,0,0,0,4.9,8.1,5.31,5.31,0,0,0,1,6.5,5.31,5.31,0,0,0,4.9,4.9,5.31,5.31,0,0,0,6.5,1,5.31,5.31,0,0,0,8.1,4.9,5.31,5.31,0,0,0,12,6.5,5.46,5.46,0,0,0,6.5,12Z\"/>\n",
       "  </svg>\n",
       "    </button>\n",
       "    <script>\n",
       "      (() => {\n",
       "      const buttonEl =\n",
       "        document.querySelector('#id_45713663-1806-480e-b023-efda396a950b button.colab-df-generate');\n",
       "      buttonEl.style.display =\n",
       "        google.colab.kernel.accessAllowed ? 'block' : 'none';\n",
       "\n",
       "      buttonEl.onclick = () => {\n",
       "        google.colab.notebook.generateWithVariable('sudamérica');\n",
       "      }\n",
       "      })();\n",
       "    </script>\n",
       "  </div>\n",
       "\n",
       "    </div>\n",
       "  </div>\n"
      ],
      "text/plain": [
       "        Pais  Continente  Poblacion_millones  PBI_per_capita  \\\n",
       "0       Perú  Sudamérica                33.0            7020   \n",
       "1  Argentina  Sudamérica                45.2            9912   \n",
       "2      Chile  Sudamérica                19.5           15000   \n",
       "6    Uruguay  Sudamérica                 3.5           16190   \n",
       "\n",
       "   Esperanza_de_vida  Indice_Gini  Tasa_Alfabetizacion  Crecimiento_Anual_PBI  \\\n",
       "0               76.5         41.5                 94.4                    1.1   \n",
       "1               76.7         42.9                 99.0                   -2.0   \n",
       "2               80.5         44.4                 99.4                    2.5   \n",
       "6               77.9         39.7                 98.4                    2.0   \n",
       "\n",
       "  Categoria_Desarrollo  \n",
       "0                Medio  \n",
       "1           Medio-Alto  \n",
       "2           Medio-Alto  \n",
       "6           Medio-Alto  "
      ]
     },
     "execution_count": 99,
     "metadata": {},
     "output_type": "execute_result"
    }
   ],
   "source": [
    "sudamérica = df_desarrollo[\n",
    "    (df_desarrollo[\"Continente\"]==\"Sudamérica\") &\n",
    "    (df_desarrollo[\"Indice_Gini\"] < 45 )\n",
    "\n",
    "]\n",
    "sudamérica"
   ]
  },
  {
   "cell_type": "code",
   "execution_count": null,
   "id": "-Zkccyr_UwxC",
   "metadata": {
    "colab": {
     "base_uri": "https://localhost:8080/",
     "height": 383
    },
    "id": "-Zkccyr_UwxC",
    "outputId": "1b5e39c0-efe7-43a9-8323-312e86c049ea"
   },
   "outputs": [
    {
     "data": {
      "application/vnd.google.colaboratory.intrinsic+json": {
       "summary": "{\n  \"name\": \"resultado\",\n  \"rows\": 10,\n  \"fields\": [\n    {\n      \"column\": \"Pais\",\n      \"properties\": {\n        \"dtype\": \"string\",\n        \"num_unique_values\": 10,\n        \"samples\": [\n          \"Per\\u00fa\",\n          \"Jap\\u00f3n\",\n          \"Argentina\"\n        ],\n        \"semantic_type\": \"\",\n        \"description\": \"\"\n      }\n    },\n    {\n      \"column\": \"Continente\",\n      \"properties\": {\n        \"dtype\": \"category\",\n        \"num_unique_values\": 4,\n        \"samples\": [\n          \"Asia\",\n          \"Sudam\\u00e9rica\",\n          \"Norteam\\u00e9rica\"\n        ],\n        \"semantic_type\": \"\",\n        \"description\": \"\"\n      }\n    },\n    {\n      \"column\": \"Poblacion_millones\",\n      \"properties\": {\n        \"dtype\": \"number\",\n        \"std\": 64.77954838441596,\n        \"min\": 3.5,\n        \"max\": 212.6,\n        \"num_unique_values\": 10,\n        \"samples\": [\n          33.0,\n          125.8,\n          45.2\n        ],\n        \"semantic_type\": \"\",\n        \"description\": \"\"\n      }\n    },\n    {\n      \"column\": \"PBI_per_capita\",\n      \"properties\": {\n        \"dtype\": \"number\",\n        \"std\": 14599,\n        \"min\": 6500,\n        \"max\": 46194,\n        \"num_unique_values\": 10,\n        \"samples\": [\n          7020,\n          40700,\n          9912\n        ],\n        \"semantic_type\": \"\",\n        \"description\": \"\"\n      }\n    },\n    {\n      \"column\": \"Esperanza_de_vida\",\n      \"properties\": {\n        \"dtype\": \"number\",\n        \"std\": 3.4464313265882534,\n        \"min\": 75.0,\n        \"max\": 84.6,\n        \"num_unique_values\": 10,\n        \"samples\": [\n          76.5,\n          84.6,\n          76.7\n        ],\n        \"semantic_type\": \"\",\n        \"description\": \"\"\n      }\n    },\n    {\n      \"column\": \"Indice_Gini\",\n      \"properties\": {\n        \"dtype\": \"number\",\n        \"std\": 7.176814520848833,\n        \"min\": 32.9,\n        \"max\": 53.9,\n        \"num_unique_values\": 10,\n        \"samples\": [\n          41.5,\n          32.9,\n          42.9\n        ],\n        \"semantic_type\": \"\",\n        \"description\": \"\"\n      }\n    },\n    {\n      \"column\": \"Tasa_Alfabetizacion\",\n      \"properties\": {\n        \"dtype\": \"number\",\n        \"std\": 2.3304982776698684,\n        \"min\": 93.2,\n        \"max\": 99.4,\n        \"num_unique_values\": 7,\n        \"samples\": [\n          99.0,\n          98.4,\n          94.4\n        ],\n        \"semantic_type\": \"\",\n        \"description\": \"\"\n      }\n    },\n    {\n      \"column\": \"Crecimiento_Anual_PBI\",\n      \"properties\": {\n        \"dtype\": \"number\",\n        \"std\": 1.4111067366511374,\n        \"min\": -2.0,\n        \"max\": 3.0,\n        \"num_unique_values\": 9,\n        \"samples\": [\n          1.1,\n          0.8,\n          2.1\n        ],\n        \"semantic_type\": \"\",\n        \"description\": \"\"\n      }\n    },\n    {\n      \"column\": \"Categoria_Desarrollo\",\n      \"properties\": {\n        \"dtype\": \"category\",\n        \"num_unique_values\": 3,\n        \"samples\": [\n          \"Alto\",\n          \"Medio-Alto\",\n          \"Medio\"\n        ],\n        \"semantic_type\": \"\",\n        \"description\": \"\"\n      }\n    }\n  ]\n}",
       "type": "dataframe",
       "variable_name": "resultado"
      },
      "text/html": [
       "\n",
       "  <div id=\"df-a636631b-7181-491a-ac06-1d2a0c21f8c7\" class=\"colab-df-container\">\n",
       "    <div>\n",
       "<style scoped>\n",
       "    .dataframe tbody tr th:only-of-type {\n",
       "        vertical-align: middle;\n",
       "    }\n",
       "\n",
       "    .dataframe tbody tr th {\n",
       "        vertical-align: top;\n",
       "    }\n",
       "\n",
       "    .dataframe thead th {\n",
       "        text-align: right;\n",
       "    }\n",
       "</style>\n",
       "<table border=\"1\" class=\"dataframe\">\n",
       "  <thead>\n",
       "    <tr style=\"text-align: right;\">\n",
       "      <th></th>\n",
       "      <th>Pais</th>\n",
       "      <th>Continente</th>\n",
       "      <th>Poblacion_millones</th>\n",
       "      <th>PBI_per_capita</th>\n",
       "      <th>Esperanza_de_vida</th>\n",
       "      <th>Indice_Gini</th>\n",
       "      <th>Tasa_Alfabetizacion</th>\n",
       "      <th>Crecimiento_Anual_PBI</th>\n",
       "      <th>Categoria_Desarrollo</th>\n",
       "    </tr>\n",
       "  </thead>\n",
       "  <tbody>\n",
       "    <tr>\n",
       "      <th>8</th>\n",
       "      <td>Canadá</td>\n",
       "      <td>Norteamérica</td>\n",
       "      <td>38.0</td>\n",
       "      <td>46194</td>\n",
       "      <td>82.3</td>\n",
       "      <td>33.3</td>\n",
       "      <td>99.0</td>\n",
       "      <td>1.9</td>\n",
       "      <td>Alto</td>\n",
       "    </tr>\n",
       "    <tr>\n",
       "      <th>9</th>\n",
       "      <td>Japón</td>\n",
       "      <td>Asia</td>\n",
       "      <td>125.8</td>\n",
       "      <td>40700</td>\n",
       "      <td>84.6</td>\n",
       "      <td>32.9</td>\n",
       "      <td>99.0</td>\n",
       "      <td>0.8</td>\n",
       "      <td>Alto</td>\n",
       "    </tr>\n",
       "    <tr>\n",
       "      <th>7</th>\n",
       "      <td>España</td>\n",
       "      <td>Europa</td>\n",
       "      <td>47.4</td>\n",
       "      <td>29600</td>\n",
       "      <td>83.6</td>\n",
       "      <td>34.7</td>\n",
       "      <td>98.4</td>\n",
       "      <td>2.5</td>\n",
       "      <td>Alto</td>\n",
       "    </tr>\n",
       "    <tr>\n",
       "      <th>6</th>\n",
       "      <td>Uruguay</td>\n",
       "      <td>Sudamérica</td>\n",
       "      <td>3.5</td>\n",
       "      <td>16190</td>\n",
       "      <td>77.9</td>\n",
       "      <td>39.7</td>\n",
       "      <td>98.4</td>\n",
       "      <td>2.0</td>\n",
       "      <td>Medio-Alto</td>\n",
       "    </tr>\n",
       "    <tr>\n",
       "      <th>2</th>\n",
       "      <td>Chile</td>\n",
       "      <td>Sudamérica</td>\n",
       "      <td>19.5</td>\n",
       "      <td>15000</td>\n",
       "      <td>80.5</td>\n",
       "      <td>44.4</td>\n",
       "      <td>99.4</td>\n",
       "      <td>2.5</td>\n",
       "      <td>Medio-Alto</td>\n",
       "    </tr>\n",
       "    <tr>\n",
       "      <th>1</th>\n",
       "      <td>Argentina</td>\n",
       "      <td>Sudamérica</td>\n",
       "      <td>45.2</td>\n",
       "      <td>9912</td>\n",
       "      <td>76.7</td>\n",
       "      <td>42.9</td>\n",
       "      <td>99.0</td>\n",
       "      <td>-2.0</td>\n",
       "      <td>Medio-Alto</td>\n",
       "    </tr>\n",
       "    <tr>\n",
       "      <th>5</th>\n",
       "      <td>México</td>\n",
       "      <td>Norteamérica</td>\n",
       "      <td>128.9</td>\n",
       "      <td>9863</td>\n",
       "      <td>75.0</td>\n",
       "      <td>45.4</td>\n",
       "      <td>95.4</td>\n",
       "      <td>2.1</td>\n",
       "      <td>Medio</td>\n",
       "    </tr>\n",
       "    <tr>\n",
       "      <th>4</th>\n",
       "      <td>Brasil</td>\n",
       "      <td>Sudamérica</td>\n",
       "      <td>212.6</td>\n",
       "      <td>8717</td>\n",
       "      <td>75.9</td>\n",
       "      <td>53.9</td>\n",
       "      <td>93.2</td>\n",
       "      <td>1.4</td>\n",
       "      <td>Medio</td>\n",
       "    </tr>\n",
       "    <tr>\n",
       "      <th>0</th>\n",
       "      <td>Perú</td>\n",
       "      <td>Sudamérica</td>\n",
       "      <td>33.0</td>\n",
       "      <td>7020</td>\n",
       "      <td>76.5</td>\n",
       "      <td>41.5</td>\n",
       "      <td>94.4</td>\n",
       "      <td>1.1</td>\n",
       "      <td>Medio</td>\n",
       "    </tr>\n",
       "    <tr>\n",
       "      <th>3</th>\n",
       "      <td>Colombia</td>\n",
       "      <td>Sudamérica</td>\n",
       "      <td>51.0</td>\n",
       "      <td>6500</td>\n",
       "      <td>77.3</td>\n",
       "      <td>51.3</td>\n",
       "      <td>95.1</td>\n",
       "      <td>3.0</td>\n",
       "      <td>Medio</td>\n",
       "    </tr>\n",
       "  </tbody>\n",
       "</table>\n",
       "</div>\n",
       "    <div class=\"colab-df-buttons\">\n",
       "\n",
       "  <div class=\"colab-df-container\">\n",
       "    <button class=\"colab-df-convert\" onclick=\"convertToInteractive('df-a636631b-7181-491a-ac06-1d2a0c21f8c7')\"\n",
       "            title=\"Convert this dataframe to an interactive table.\"\n",
       "            style=\"display:none;\">\n",
       "\n",
       "  <svg xmlns=\"http://www.w3.org/2000/svg\" height=\"24px\" viewBox=\"0 -960 960 960\">\n",
       "    <path d=\"M120-120v-720h720v720H120Zm60-500h600v-160H180v160Zm220 220h160v-160H400v160Zm0 220h160v-160H400v160ZM180-400h160v-160H180v160Zm440 0h160v-160H620v160ZM180-180h160v-160H180v160Zm440 0h160v-160H620v160Z\"/>\n",
       "  </svg>\n",
       "    </button>\n",
       "\n",
       "  <style>\n",
       "    .colab-df-container {\n",
       "      display:flex;\n",
       "      gap: 12px;\n",
       "    }\n",
       "\n",
       "    .colab-df-convert {\n",
       "      background-color: #E8F0FE;\n",
       "      border: none;\n",
       "      border-radius: 50%;\n",
       "      cursor: pointer;\n",
       "      display: none;\n",
       "      fill: #1967D2;\n",
       "      height: 32px;\n",
       "      padding: 0 0 0 0;\n",
       "      width: 32px;\n",
       "    }\n",
       "\n",
       "    .colab-df-convert:hover {\n",
       "      background-color: #E2EBFA;\n",
       "      box-shadow: 0px 1px 2px rgba(60, 64, 67, 0.3), 0px 1px 3px 1px rgba(60, 64, 67, 0.15);\n",
       "      fill: #174EA6;\n",
       "    }\n",
       "\n",
       "    .colab-df-buttons div {\n",
       "      margin-bottom: 4px;\n",
       "    }\n",
       "\n",
       "    [theme=dark] .colab-df-convert {\n",
       "      background-color: #3B4455;\n",
       "      fill: #D2E3FC;\n",
       "    }\n",
       "\n",
       "    [theme=dark] .colab-df-convert:hover {\n",
       "      background-color: #434B5C;\n",
       "      box-shadow: 0px 1px 3px 1px rgba(0, 0, 0, 0.15);\n",
       "      filter: drop-shadow(0px 1px 2px rgba(0, 0, 0, 0.3));\n",
       "      fill: #FFFFFF;\n",
       "    }\n",
       "  </style>\n",
       "\n",
       "    <script>\n",
       "      const buttonEl =\n",
       "        document.querySelector('#df-a636631b-7181-491a-ac06-1d2a0c21f8c7 button.colab-df-convert');\n",
       "      buttonEl.style.display =\n",
       "        google.colab.kernel.accessAllowed ? 'block' : 'none';\n",
       "\n",
       "      async function convertToInteractive(key) {\n",
       "        const element = document.querySelector('#df-a636631b-7181-491a-ac06-1d2a0c21f8c7');\n",
       "        const dataTable =\n",
       "          await google.colab.kernel.invokeFunction('convertToInteractive',\n",
       "                                                    [key], {});\n",
       "        if (!dataTable) return;\n",
       "\n",
       "        const docLinkHtml = 'Like what you see? Visit the ' +\n",
       "          '<a target=\"_blank\" href=https://colab.research.google.com/notebooks/data_table.ipynb>data table notebook</a>'\n",
       "          + ' to learn more about interactive tables.';\n",
       "        element.innerHTML = '';\n",
       "        dataTable['output_type'] = 'display_data';\n",
       "        await google.colab.output.renderOutput(dataTable, element);\n",
       "        const docLink = document.createElement('div');\n",
       "        docLink.innerHTML = docLinkHtml;\n",
       "        element.appendChild(docLink);\n",
       "      }\n",
       "    </script>\n",
       "  </div>\n",
       "\n",
       "\n",
       "    <div id=\"df-1f823637-1549-4e2e-9b7b-68a14dd82613\">\n",
       "      <button class=\"colab-df-quickchart\" onclick=\"quickchart('df-1f823637-1549-4e2e-9b7b-68a14dd82613')\"\n",
       "                title=\"Suggest charts\"\n",
       "                style=\"display:none;\">\n",
       "\n",
       "<svg xmlns=\"http://www.w3.org/2000/svg\" height=\"24px\"viewBox=\"0 0 24 24\"\n",
       "     width=\"24px\">\n",
       "    <g>\n",
       "        <path d=\"M19 3H5c-1.1 0-2 .9-2 2v14c0 1.1.9 2 2 2h14c1.1 0 2-.9 2-2V5c0-1.1-.9-2-2-2zM9 17H7v-7h2v7zm4 0h-2V7h2v10zm4 0h-2v-4h2v4z\"/>\n",
       "    </g>\n",
       "</svg>\n",
       "      </button>\n",
       "\n",
       "<style>\n",
       "  .colab-df-quickchart {\n",
       "      --bg-color: #E8F0FE;\n",
       "      --fill-color: #1967D2;\n",
       "      --hover-bg-color: #E2EBFA;\n",
       "      --hover-fill-color: #174EA6;\n",
       "      --disabled-fill-color: #AAA;\n",
       "      --disabled-bg-color: #DDD;\n",
       "  }\n",
       "\n",
       "  [theme=dark] .colab-df-quickchart {\n",
       "      --bg-color: #3B4455;\n",
       "      --fill-color: #D2E3FC;\n",
       "      --hover-bg-color: #434B5C;\n",
       "      --hover-fill-color: #FFFFFF;\n",
       "      --disabled-bg-color: #3B4455;\n",
       "      --disabled-fill-color: #666;\n",
       "  }\n",
       "\n",
       "  .colab-df-quickchart {\n",
       "    background-color: var(--bg-color);\n",
       "    border: none;\n",
       "    border-radius: 50%;\n",
       "    cursor: pointer;\n",
       "    display: none;\n",
       "    fill: var(--fill-color);\n",
       "    height: 32px;\n",
       "    padding: 0;\n",
       "    width: 32px;\n",
       "  }\n",
       "\n",
       "  .colab-df-quickchart:hover {\n",
       "    background-color: var(--hover-bg-color);\n",
       "    box-shadow: 0 1px 2px rgba(60, 64, 67, 0.3), 0 1px 3px 1px rgba(60, 64, 67, 0.15);\n",
       "    fill: var(--button-hover-fill-color);\n",
       "  }\n",
       "\n",
       "  .colab-df-quickchart-complete:disabled,\n",
       "  .colab-df-quickchart-complete:disabled:hover {\n",
       "    background-color: var(--disabled-bg-color);\n",
       "    fill: var(--disabled-fill-color);\n",
       "    box-shadow: none;\n",
       "  }\n",
       "\n",
       "  .colab-df-spinner {\n",
       "    border: 2px solid var(--fill-color);\n",
       "    border-color: transparent;\n",
       "    border-bottom-color: var(--fill-color);\n",
       "    animation:\n",
       "      spin 1s steps(1) infinite;\n",
       "  }\n",
       "\n",
       "  @keyframes spin {\n",
       "    0% {\n",
       "      border-color: transparent;\n",
       "      border-bottom-color: var(--fill-color);\n",
       "      border-left-color: var(--fill-color);\n",
       "    }\n",
       "    20% {\n",
       "      border-color: transparent;\n",
       "      border-left-color: var(--fill-color);\n",
       "      border-top-color: var(--fill-color);\n",
       "    }\n",
       "    30% {\n",
       "      border-color: transparent;\n",
       "      border-left-color: var(--fill-color);\n",
       "      border-top-color: var(--fill-color);\n",
       "      border-right-color: var(--fill-color);\n",
       "    }\n",
       "    40% {\n",
       "      border-color: transparent;\n",
       "      border-right-color: var(--fill-color);\n",
       "      border-top-color: var(--fill-color);\n",
       "    }\n",
       "    60% {\n",
       "      border-color: transparent;\n",
       "      border-right-color: var(--fill-color);\n",
       "    }\n",
       "    80% {\n",
       "      border-color: transparent;\n",
       "      border-right-color: var(--fill-color);\n",
       "      border-bottom-color: var(--fill-color);\n",
       "    }\n",
       "    90% {\n",
       "      border-color: transparent;\n",
       "      border-bottom-color: var(--fill-color);\n",
       "    }\n",
       "  }\n",
       "</style>\n",
       "\n",
       "      <script>\n",
       "        async function quickchart(key) {\n",
       "          const quickchartButtonEl =\n",
       "            document.querySelector('#' + key + ' button');\n",
       "          quickchartButtonEl.disabled = true;  // To prevent multiple clicks.\n",
       "          quickchartButtonEl.classList.add('colab-df-spinner');\n",
       "          try {\n",
       "            const charts = await google.colab.kernel.invokeFunction(\n",
       "                'suggestCharts', [key], {});\n",
       "          } catch (error) {\n",
       "            console.error('Error during call to suggestCharts:', error);\n",
       "          }\n",
       "          quickchartButtonEl.classList.remove('colab-df-spinner');\n",
       "          quickchartButtonEl.classList.add('colab-df-quickchart-complete');\n",
       "        }\n",
       "        (() => {\n",
       "          let quickchartButtonEl =\n",
       "            document.querySelector('#df-1f823637-1549-4e2e-9b7b-68a14dd82613 button');\n",
       "          quickchartButtonEl.style.display =\n",
       "            google.colab.kernel.accessAllowed ? 'block' : 'none';\n",
       "        })();\n",
       "      </script>\n",
       "    </div>\n",
       "\n",
       "  <div id=\"id_f8b22875-e3e0-4702-bcb1-dbfea2c9abef\">\n",
       "    <style>\n",
       "      .colab-df-generate {\n",
       "        background-color: #E8F0FE;\n",
       "        border: none;\n",
       "        border-radius: 50%;\n",
       "        cursor: pointer;\n",
       "        display: none;\n",
       "        fill: #1967D2;\n",
       "        height: 32px;\n",
       "        padding: 0 0 0 0;\n",
       "        width: 32px;\n",
       "      }\n",
       "\n",
       "      .colab-df-generate:hover {\n",
       "        background-color: #E2EBFA;\n",
       "        box-shadow: 0px 1px 2px rgba(60, 64, 67, 0.3), 0px 1px 3px 1px rgba(60, 64, 67, 0.15);\n",
       "        fill: #174EA6;\n",
       "      }\n",
       "\n",
       "      [theme=dark] .colab-df-generate {\n",
       "        background-color: #3B4455;\n",
       "        fill: #D2E3FC;\n",
       "      }\n",
       "\n",
       "      [theme=dark] .colab-df-generate:hover {\n",
       "        background-color: #434B5C;\n",
       "        box-shadow: 0px 1px 3px 1px rgba(0, 0, 0, 0.15);\n",
       "        filter: drop-shadow(0px 1px 2px rgba(0, 0, 0, 0.3));\n",
       "        fill: #FFFFFF;\n",
       "      }\n",
       "    </style>\n",
       "    <button class=\"colab-df-generate\" onclick=\"generateWithVariable('resultado')\"\n",
       "            title=\"Generate code using this dataframe.\"\n",
       "            style=\"display:none;\">\n",
       "\n",
       "  <svg xmlns=\"http://www.w3.org/2000/svg\" height=\"24px\"viewBox=\"0 0 24 24\"\n",
       "       width=\"24px\">\n",
       "    <path d=\"M7,19H8.4L18.45,9,17,7.55,7,17.6ZM5,21V16.75L18.45,3.32a2,2,0,0,1,2.83,0l1.4,1.43a1.91,1.91,0,0,1,.58,1.4,1.91,1.91,0,0,1-.58,1.4L9.25,21ZM18.45,9,17,7.55Zm-12,3A5.31,5.31,0,0,0,4.9,8.1,5.31,5.31,0,0,0,1,6.5,5.31,5.31,0,0,0,4.9,4.9,5.31,5.31,0,0,0,6.5,1,5.31,5.31,0,0,0,8.1,4.9,5.31,5.31,0,0,0,12,6.5,5.46,5.46,0,0,0,6.5,12Z\"/>\n",
       "  </svg>\n",
       "    </button>\n",
       "    <script>\n",
       "      (() => {\n",
       "      const buttonEl =\n",
       "        document.querySelector('#id_f8b22875-e3e0-4702-bcb1-dbfea2c9abef button.colab-df-generate');\n",
       "      buttonEl.style.display =\n",
       "        google.colab.kernel.accessAllowed ? 'block' : 'none';\n",
       "\n",
       "      buttonEl.onclick = () => {\n",
       "        google.colab.notebook.generateWithVariable('resultado');\n",
       "      }\n",
       "      })();\n",
       "    </script>\n",
       "  </div>\n",
       "\n",
       "    </div>\n",
       "  </div>\n"
      ],
      "text/plain": [
       "        Pais    Continente  Poblacion_millones  PBI_per_capita  \\\n",
       "8     Canadá  Norteamérica                38.0           46194   \n",
       "9      Japón          Asia               125.8           40700   \n",
       "7     España        Europa                47.4           29600   \n",
       "6    Uruguay    Sudamérica                 3.5           16190   \n",
       "2      Chile    Sudamérica                19.5           15000   \n",
       "1  Argentina    Sudamérica                45.2            9912   \n",
       "5     México  Norteamérica               128.9            9863   \n",
       "4     Brasil    Sudamérica               212.6            8717   \n",
       "0       Perú    Sudamérica                33.0            7020   \n",
       "3   Colombia    Sudamérica                51.0            6500   \n",
       "\n",
       "   Esperanza_de_vida  Indice_Gini  Tasa_Alfabetizacion  Crecimiento_Anual_PBI  \\\n",
       "8               82.3         33.3                 99.0                    1.9   \n",
       "9               84.6         32.9                 99.0                    0.8   \n",
       "7               83.6         34.7                 98.4                    2.5   \n",
       "6               77.9         39.7                 98.4                    2.0   \n",
       "2               80.5         44.4                 99.4                    2.5   \n",
       "1               76.7         42.9                 99.0                   -2.0   \n",
       "5               75.0         45.4                 95.4                    2.1   \n",
       "4               75.9         53.9                 93.2                    1.4   \n",
       "0               76.5         41.5                 94.4                    1.1   \n",
       "3               77.3         51.3                 95.1                    3.0   \n",
       "\n",
       "  Categoria_Desarrollo  \n",
       "8                 Alto  \n",
       "9                 Alto  \n",
       "7                 Alto  \n",
       "6           Medio-Alto  \n",
       "2           Medio-Alto  \n",
       "1           Medio-Alto  \n",
       "5                Medio  \n",
       "4                Medio  \n",
       "0                Medio  \n",
       "3                Medio  "
      ]
     },
     "execution_count": 100,
     "metadata": {},
     "output_type": "execute_result"
    }
   ],
   "source": [
    "resultado = df_desarrollo.sort_values(by=\"PBI_per_capita\", ascending=False)\n",
    "resultado"
   ]
  },
  {
   "cell_type": "markdown",
   "id": "5GGM9kLgbJuH",
   "metadata": {
    "id": "5GGM9kLgbJuH"
   },
   "source": [
    "**9.** Utilizando `groupby()`, calcula para cada `Continente`:\n",
    "- La **media** de `Esperanza_de_vida`.\n",
    "- El **máximo** de `Indice_Gini`.\n",
    "- El **conteo** de países."
   ]
  },
  {
   "cell_type": "code",
   "execution_count": null,
   "id": "SnoAgW2LbJuH",
   "metadata": {
    "colab": {
     "base_uri": "https://localhost:8080/"
    },
    "id": "SnoAgW2LbJuH",
    "outputId": "2686eefe-01b4-4352-9716-0237b7280bbf"
   },
   "outputs": [
    {
     "name": "stdout",
     "output_type": "stream",
     "text": [
      "              Esperanza_de_vida  Indice_Gini  Conteo_paises\n",
      "Continente                                                 \n",
      "Asia                  84.600000         32.9              1\n",
      "Europa                83.600000         34.7              1\n",
      "Norteamérica          78.650000         45.4              2\n",
      "Sudamérica            77.466667         53.9              6\n"
     ]
    }
   ],
   "source": [
    "resultado = df_desarrollo.groupby(\"Continente\").agg({\n",
    "    \"Esperanza_de_vida\": \"mean\",\n",
    "    \"Indice_Gini\": \"max\",\n",
    "    \"Pais\": \"count\"\n",
    "}).rename(columns={\"Pais\": \"Conteo_paises\"})\n",
    "\n",
    "print(resultado)\n"
   ]
  },
  {
   "cell_type": "markdown",
   "id": "NJNCKZYxbJuH",
   "metadata": {
    "id": "NJNCKZYxbJuH"
   },
   "source": [
    "## Sección 3: Visualización de Datos"
   ]
  },
  {
   "cell_type": "markdown",
   "id": "oqRrTvFVbJuH",
   "metadata": {
    "id": "oqRrTvFVbJuH"
   },
   "source": [
    "**10.** Crea un gráfico de barras horizontales (`barh`) que muestre el `Indice_Gini` de cada país. Ordena los países de menor a mayor desigualdad (Gini) para una mejor visualización. Asegúrate de que el gráfico tenga un título y etiquetas adecuadas."
   ]
  },
  {
   "cell_type": "code",
   "execution_count": null,
   "id": "UoyxHvhjbJuH",
   "metadata": {
    "colab": {
     "base_uri": "https://localhost:8080/",
     "height": 472
    },
    "id": "UoyxHvhjbJuH",
    "outputId": "5d6f49a7-5030-44b6-dcff-2d5230980a60"
   },
   "outputs": [
    {
     "data": {
      "image/png": "[encoded data removed]",
      "text/plain": [
       "<Figure size 640x480 with 1 Axes>"
      ]
     },
     "metadata": {},
     "output_type": "display_data"
    }
   ],
   "source": [
    "import matplotlib.pyplot as plt\n",
    "resultado2 = df_desarrollo.sort_values(by=\"Indice_Gini\")\n",
    "fig, ax = plt.subplots()\n",
    "ax.barh(resultado2[\"Pais\"], resultado2[\"Indice_Gini\"], color=\"darkblue\")\n",
    "ax.set_xlabel(\"Índice Gini\")\n",
    "ax.set_ylabel(\"País\")\n",
    "ax.set_title(\"Niveles de Desigualdad\")\n",
    "plt.show()"
   ]
  },
  {
   "cell_type": "markdown",
   "id": "Ycs_GpmrbJuH",
   "metadata": {
    "id": "Ycs_GpmrbJuH"
   },
   "source": [
    "**11.1.** Genera un gráfico de dispersión (scatter plot) para explorar la relación entre el `PBI_per_capita` (eje X) y la `Esperanza_de_vida` (eje Y).\n",
    "\n",
    "**11.2.** Modifica el gráfico anterior para que el color de cada punto represente su `Continente`. (Pista: puedes crear un diccionario que mapee continentes a colores, por ejemplo: `{'Sudamérica': 'blue', ...}`).\n",
    "\n",
    "**11.3.** **Interpretación:** ¿Qué te dice este gráfico sobre la relación entre PBI y esperanza de vida? ¿Observas alguna agrupación por continentes?"
   ]
  },
  {
   "cell_type": "code",
   "execution_count": null,
   "id": "ykNgEk1xbJuH",
   "metadata": {
    "colab": {
     "base_uri": "https://localhost:8080/",
     "height": 642
    },
    "id": "ykNgEk1xbJuH",
    "outputId": "6587cf04-39ea-486f-f469-d0c0b334e536"
   },
   "outputs": [
    {
     "data": {
      "image/png": "[encoded data removed]",
      "text/plain": [
       "<Figure size 1000x700 with 1 Axes>"
      ]
     },
     "metadata": {},
     "output_type": "display_data"
    }
   ],
   "source": [
    "import pandas as pd, numpy as np, matplotlib.pyplot as plt\n",
    "\n",
    "df = pd.DataFrame({\n",
    "    'Pais': ['Perú','Argentina','Chile','Colombia','Brasil','México','Uruguay','España','Canadá','Japón'],\n",
    "    'Continente': ['Sudamérica','Sudamérica','Sudamérica','Sudamérica','Sudamérica','Norteamérica','Sudamérica','Europa','Norteamérica','Asia'],\n",
    "    'PBI_per_capita': [7020,9912,15000,6500,8717,9863,16190,29600,46194,40700],\n",
    "    'Esperanza_de_vida': [76.5,76.7,80.5,77.3,75.9,75.0,77.9,83.6,82.3,84.6]\n",
    "})\n",
    "\n",
    "colores = {'Sudamérica':'blue','Norteamérica':'green','Europa':'orange','Asia':'red'}\n",
    "\n",
    "plt.figure(figsize=(10,7))\n",
    "for c, d in df.groupby('Continente'):\n",
    "    plt.scatter(d.PBI_per_capita, d.Esperanza_de_vida, s=100, alpha=0.7,\n",
    "                color=colores[c], label=c)\n",
    "    [plt.text(x+300, y, p, fontsize=9) for x, y, p in zip(d.PBI_per_capita, d.Esperanza_de_vida, d.Pais)]\n",
    "\n",
    "plt.xlabel('PBI per cápita (USD)'); plt.ylabel('Esperanza de vida (años)')\n",
    "plt.title('PBI vs Esperanza de vida por Continente'); plt.legend()\n",
    "plt.grid(True, ls='--', alpha=0.6); plt.show()"
   ]
  },
  {
   "cell_type": "markdown",
   "id": "zyvV_QzDbJuH",
   "metadata": {
    "id": "zyvV_QzDbJuH"
   },
   "source": [
    "* **INTERPRETACION** El grafico indica que, en términos generales, un PBI per cápita más elevado se relaciona con una mayor esperanza de vida. Europa y Asia presentan los valores más altos en ambas medidas, Norteamérica se encuentra en una posición alta-intermedia y Sudamérica en un nivel medio. No existen paises con un PBI extremadamente bajo y una esperanza de vida alta, ni tampoco con un PBI elevado y una esperanza de vida baja."
   ]
  },
  {
   "cell_type": "markdown",
   "id": "Wi51SLJWbJuH",
   "metadata": {
    "id": "Wi51SLJWbJuH"
   },
   "source": [
    "**12.** Crea un histograma de la `Tasa_Alfabetizacion`. Añade una línea vertical roja que represente la media de esta tasa."
   ]
  },
  {
   "cell_type": "code",
   "execution_count": null,
   "id": "kTHwpTlNbJuI",
   "metadata": {
    "colab": {
     "base_uri": "https://localhost:8080/",
     "height": 564
    },
    "id": "kTHwpTlNbJuI",
    "outputId": "e0289730-df54-48cd-9b9e-e445b7893d9e"
   },
   "outputs": [
    {
     "data": {
      "image/png": "[encoded data removed]",
      "text/plain": [
       "<Figure size 1000x600 with 1 Axes>"
      ]
     },
     "metadata": {},
     "output_type": "display_data"
    }
   ],
   "source": [
    "fig, ax = plt.subplots(figsize=(10,6))\n",
    "resultado3 = df_desarrollo\n",
    "ax.hist(resultado3[\"Tasa_Alfabetizacion\"], bins = 10)\n",
    "plt.title(\"Nivel de alfabetización\")\n",
    "plt.xlabel('Tasa de Alfabetización (%)')\n",
    "plt.ylabel('Frecuencia')\n",
    "media_alfabetizacion = df_desarrollo['Tasa_Alfabetizacion'].mean()\n",
    "plt.axvline(x=media_alfabetizacion,\n",
    "            color='red',\n",
    "            linestyle='--',\n",
    "            label=f'Media: {media_alfabetizacion:.1f}%')\n",
    "plt.legend()\n",
    "plt.show()"
   ]
  },
  {
   "cell_type": "markdown",
   "id": "5Rlsc-hNbJuI",
   "metadata": {
    "id": "5Rlsc-hNbJuI"
   },
   "source": [
    "## Sección 4: Estadística y Síntesis"
   ]
  },
  {
   "cell_type": "markdown",
   "id": "4Pd-42lrbJuI",
   "metadata": {
    "id": "4Pd-42lrbJuI"
   },
   "source": [
    "**13.** Muestra un resumen estadístico completo de las columnas numéricas del DataFrame."
   ]
  },
  {
   "cell_type": "code",
   "execution_count": null,
   "id": "Q3OHpdjgbJuI",
   "metadata": {
    "colab": {
     "base_uri": "https://localhost:8080/"
    },
    "id": "Q3OHpdjgbJuI",
    "outputId": "2bfb3391-c5b7-4054-d21d-42781b86e7bf"
   },
   "outputs": [
    {
     "name": "stdout",
     "output_type": "stream",
     "text": [
      "        Pais  Continente  PBI_per_capita  Esperanza_de_vida\n",
      "count     10          10       10.000000          10.000000\n",
      "unique    10           4             NaN                NaN\n",
      "top     Perú  Sudamérica             NaN                NaN\n",
      "freq       1           6             NaN                NaN\n",
      "mean     NaN         NaN    18969.600000          79.030000\n",
      "std      NaN         NaN    14599.229418           3.446431\n",
      "min      NaN         NaN     6500.000000          75.000000\n",
      "25%      NaN         NaN     9003.500000          76.550000\n",
      "50%      NaN         NaN    12456.000000          77.600000\n",
      "75%      NaN         NaN    26247.500000          81.850000\n",
      "max      NaN         NaN    46194.000000          84.600000\n"
     ]
    }
   ],
   "source": [
    "resumen_completo = df.describe(include=\"all\")\n",
    "print(resumen_completo)"
   ]
  },
  {
   "cell_type": "markdown",
   "id": "2JNprB4JbJuI",
   "metadata": {
    "id": "2JNprB4JbJuI"
   },
   "source": [
    "**14.1.** Calcula la matriz de correlación para las columnas numéricas del DataFrame.\n",
    "\n",
    "**14.2.** **Interpretación:** Identifica el par de variables con la correlación positiva más fuerte y el par con la correlación negativa más fuerte (excluyendo la correlación de una variable consigo misma). ¿Tienen sentido estos resultados en el mundo real?"
   ]
  },
  {
   "cell_type": "code",
   "execution_count": null,
   "id": "VWZFMyjwbJuI",
   "metadata": {
    "colab": {
     "base_uri": "https://localhost:8080/",
     "height": 238
    },
    "id": "VWZFMyjwbJuI",
    "outputId": "d1503b32-2d65-44e9-8bfd-35af3e78b20e"
   },
   "outputs": [
    {
     "data": {
      "text/html": [
       "<style type=\"text/css\">\n",
       "#T_6c9c6_row0_col0, #T_6c9c6_row1_col1, #T_6c9c6_row2_col2, #T_6c9c6_row3_col3, #T_6c9c6_row4_col4, #T_6c9c6_row5_col5 {\n",
       "  background-color: #b40426;\n",
       "  color: #f1f1f1;\n",
       "}\n",
       "#T_6c9c6_row0_col1, #T_6c9c6_row0_col5, #T_6c9c6_row1_col0, #T_6c9c6_row5_col0 {\n",
       "  background-color: #d3dbe7;\n",
       "  color: #000000;\n",
       "}\n",
       "#T_6c9c6_row0_col2, #T_6c9c6_row2_col0 {\n",
       "  background-color: #c0d4f5;\n",
       "  color: #000000;\n",
       "}\n",
       "#T_6c9c6_row0_col3, #T_6c9c6_row3_col0 {\n",
       "  background-color: #f7ac8e;\n",
       "  color: #000000;\n",
       "}\n",
       "#T_6c9c6_row0_col4, #T_6c9c6_row4_col0 {\n",
       "  background-color: #84a7fc;\n",
       "  color: #f1f1f1;\n",
       "}\n",
       "#T_6c9c6_row1_col2, #T_6c9c6_row2_col1 {\n",
       "  background-color: #ca3b37;\n",
       "  color: #f1f1f1;\n",
       "}\n",
       "#T_6c9c6_row1_col3, #T_6c9c6_row3_col1 {\n",
       "  background-color: #5470de;\n",
       "  color: #f1f1f1;\n",
       "}\n",
       "#T_6c9c6_row1_col4, #T_6c9c6_row4_col1 {\n",
       "  background-color: #ec7f63;\n",
       "  color: #f1f1f1;\n",
       "}\n",
       "#T_6c9c6_row1_col5, #T_6c9c6_row5_col1 {\n",
       "  background-color: #e6d7cf;\n",
       "  color: #000000;\n",
       "}\n",
       "#T_6c9c6_row2_col3, #T_6c9c6_row3_col2 {\n",
       "  background-color: #5b7ae5;\n",
       "  color: #f1f1f1;\n",
       "}\n",
       "#T_6c9c6_row2_col4, #T_6c9c6_row4_col2 {\n",
       "  background-color: #e57058;\n",
       "  color: #f1f1f1;\n",
       "}\n",
       "#T_6c9c6_row2_col5, #T_6c9c6_row5_col2 {\n",
       "  background-color: #efcebd;\n",
       "  color: #000000;\n",
       "}\n",
       "#T_6c9c6_row3_col4, #T_6c9c6_row4_col3 {\n",
       "  background-color: #6687ed;\n",
       "  color: #f1f1f1;\n",
       "}\n",
       "#T_6c9c6_row3_col5, #T_6c9c6_row5_col3 {\n",
       "  background-color: #e9d5cb;\n",
       "  color: #000000;\n",
       "}\n",
       "#T_6c9c6_row4_col5, #T_6c9c6_row5_col4 {\n",
       "  background-color: #c3d5f4;\n",
       "  color: #000000;\n",
       "}\n",
       "</style>\n",
       "<table id=\"T_6c9c6\" class=\"dataframe\">\n",
       "  <thead>\n",
       "    <tr>\n",
       "      <th class=\"blank level0\" >&nbsp;</th>\n",
       "      <th id=\"T_6c9c6_level0_col0\" class=\"col_heading level0 col0\" >Poblacion_millones</th>\n",
       "      <th id=\"T_6c9c6_level0_col1\" class=\"col_heading level0 col1\" >PBI_per_capita</th>\n",
       "      <th id=\"T_6c9c6_level0_col2\" class=\"col_heading level0 col2\" >Esperanza_de_vida</th>\n",
       "      <th id=\"T_6c9c6_level0_col3\" class=\"col_heading level0 col3\" >Indice_Gini</th>\n",
       "      <th id=\"T_6c9c6_level0_col4\" class=\"col_heading level0 col4\" >Tasa_Alfabetizacion</th>\n",
       "      <th id=\"T_6c9c6_level0_col5\" class=\"col_heading level0 col5\" >Crecimiento_Anual_PBI</th>\n",
       "    </tr>\n",
       "  </thead>\n",
       "  <tbody>\n",
       "    <tr>\n",
       "      <th id=\"T_6c9c6_level0_row0\" class=\"row_heading level0 row0\" >Poblacion_millones</th>\n",
       "      <td id=\"T_6c9c6_row0_col0\" class=\"data row0 col0\" >1.000000</td>\n",
       "      <td id=\"T_6c9c6_row0_col1\" class=\"data row0 col1\" >-0.071465</td>\n",
       "      <td id=\"T_6c9c6_row0_col2\" class=\"data row0 col2\" >-0.196905</td>\n",
       "      <td id=\"T_6c9c6_row0_col3\" class=\"data row0 col3\" >0.402474</td>\n",
       "      <td id=\"T_6c9c6_row0_col4\" class=\"data row0 col4\" >-0.553755</td>\n",
       "      <td id=\"T_6c9c6_row0_col5\" class=\"data row0 col5\" >-0.078008</td>\n",
       "    </tr>\n",
       "    <tr>\n",
       "      <th id=\"T_6c9c6_level0_row1\" class=\"row_heading level0 row1\" >PBI_per_capita</th>\n",
       "      <td id=\"T_6c9c6_row1_col0\" class=\"data row1 col0\" >-0.071465</td>\n",
       "      <td id=\"T_6c9c6_row1_col1\" class=\"data row1 col1\" >1.000000</td>\n",
       "      <td id=\"T_6c9c6_row1_col2\" class=\"data row1 col2\" >0.878126</td>\n",
       "      <td id=\"T_6c9c6_row1_col3\" class=\"data row1 col3\" >-0.833999</td>\n",
       "      <td id=\"T_6c9c6_row1_col4\" class=\"data row1 col4\" >0.619017</td>\n",
       "      <td id=\"T_6c9c6_row1_col5\" class=\"data row1 col5\" >0.077061</td>\n",
       "    </tr>\n",
       "    <tr>\n",
       "      <th id=\"T_6c9c6_level0_row2\" class=\"row_heading level0 row2\" >Esperanza_de_vida</th>\n",
       "      <td id=\"T_6c9c6_row2_col0\" class=\"data row2 col0\" >-0.196905</td>\n",
       "      <td id=\"T_6c9c6_row2_col1\" class=\"data row2 col1\" >0.878126</td>\n",
       "      <td id=\"T_6c9c6_row2_col2\" class=\"data row2 col2\" >1.000000</td>\n",
       "      <td id=\"T_6c9c6_row2_col3\" class=\"data row2 col3\" >-0.782716</td>\n",
       "      <td id=\"T_6c9c6_row2_col4\" class=\"data row2 col4\" >0.685751</td>\n",
       "      <td id=\"T_6c9c6_row2_col5\" class=\"data row2 col5\" >0.167948</td>\n",
       "    </tr>\n",
       "    <tr>\n",
       "      <th id=\"T_6c9c6_level0_row3\" class=\"row_heading level0 row3\" >Indice_Gini</th>\n",
       "      <td id=\"T_6c9c6_row3_col0\" class=\"data row3 col0\" >0.402474</td>\n",
       "      <td id=\"T_6c9c6_row3_col1\" class=\"data row3 col1\" >-0.833999</td>\n",
       "      <td id=\"T_6c9c6_row3_col2\" class=\"data row3 col2\" >-0.782716</td>\n",
       "      <td id=\"T_6c9c6_row3_col3\" class=\"data row3 col3\" >1.000000</td>\n",
       "      <td id=\"T_6c9c6_row3_col4\" class=\"data row3 col4\" >-0.720853</td>\n",
       "      <td id=\"T_6c9c6_row3_col5\" class=\"data row3 col5\" >0.095342</td>\n",
       "    </tr>\n",
       "    <tr>\n",
       "      <th id=\"T_6c9c6_level0_row4\" class=\"row_heading level0 row4\" >Tasa_Alfabetizacion</th>\n",
       "      <td id=\"T_6c9c6_row4_col0\" class=\"data row4 col0\" >-0.553755</td>\n",
       "      <td id=\"T_6c9c6_row4_col1\" class=\"data row4 col1\" >0.619017</td>\n",
       "      <td id=\"T_6c9c6_row4_col2\" class=\"data row4 col2\" >0.685751</td>\n",
       "      <td id=\"T_6c9c6_row4_col3\" class=\"data row4 col3\" >-0.720853</td>\n",
       "      <td id=\"T_6c9c6_row4_col4\" class=\"data row4 col4\" >1.000000</td>\n",
       "      <td id=\"T_6c9c6_row4_col5\" class=\"data row4 col5\" >-0.186808</td>\n",
       "    </tr>\n",
       "    <tr>\n",
       "      <th id=\"T_6c9c6_level0_row5\" class=\"row_heading level0 row5\" >Crecimiento_Anual_PBI</th>\n",
       "      <td id=\"T_6c9c6_row5_col0\" class=\"data row5 col0\" >-0.078008</td>\n",
       "      <td id=\"T_6c9c6_row5_col1\" class=\"data row5 col1\" >0.077061</td>\n",
       "      <td id=\"T_6c9c6_row5_col2\" class=\"data row5 col2\" >0.167948</td>\n",
       "      <td id=\"T_6c9c6_row5_col3\" class=\"data row5 col3\" >0.095342</td>\n",
       "      <td id=\"T_6c9c6_row5_col4\" class=\"data row5 col4\" >-0.186808</td>\n",
       "      <td id=\"T_6c9c6_row5_col5\" class=\"data row5 col5\" >1.000000</td>\n",
       "    </tr>\n",
       "  </tbody>\n",
       "</table>\n"
      ],
      "text/plain": [
       "<pandas.io.formats.style.Styler at 0x7b7859c35e50>"
      ]
     },
     "execution_count": 106,
     "metadata": {},
     "output_type": "execute_result"
    }
   ],
   "source": [
    "matriz_correlacion = df_desarrollo.select_dtypes(include=['number']).corr()\n",
    "matriz_correlacion.style.background_gradient(cmap='coolwarm', vmin=-1, vmax=1)\n",
    "\n"
   ]
  },
  {
   "cell_type": "code",
   "execution_count": null,
   "id": "_Jq1YJU-7bCV",
   "metadata": {
    "colab": {
     "base_uri": "https://localhost:8080/"
    },
    "id": "_Jq1YJU-7bCV",
    "outputId": "21b25b3a-77db-49ba-89fa-855e94bd4354"
   },
   "outputs": [
    {
     "name": "stdout",
     "output_type": "stream",
     "text": [
      "Mayor correlación positiva: ('PBI_per_capita', 'Esperanza_de_vida') = 0.88\n",
      "Mayor correlación negativa: ('PBI_per_capita', 'Indice_Gini') = -0.83\n"
     ]
    }
   ],
   "source": [
    "correlaciones = matriz_correlacion.stack()\n",
    "correlaciones = correlaciones[correlaciones.index.get_level_values(0) != correlaciones.index.get_level_values(1)]\n",
    "max_pos = correlaciones.idxmax()\n",
    "valor_max_pos = correlaciones[max_pos]\n",
    "max_neg = correlaciones.idxmin()\n",
    "valor_max_neg = correlaciones[max_neg]\n",
    "print(f\"Mayor correlación positiva: {max_pos} = {valor_max_pos:.2f}\")\n",
    "print(f\"Mayor correlación negativa: {max_neg} = {valor_max_neg:.2f}\")"
   ]
  },
  {
   "cell_type": "markdown",
   "id": "J4p1wHTmbJuR",
   "metadata": {
    "id": "J4p1wHTmbJuR"
   },
   "source": [
    " **INTERPRETACIÓN:**\n",
    " Existe una relación positiva entre el PBI per cápita y la esperanza de vida, pues tiende a ser la esperanza más alta cuando un país matiene mayor riqueza económica. Esto se debe a que, a mayores recursos económicos, se puede permitir el acceso a mejores condiciones para la calidad de vida."
   ]
  },
  {
   "cell_type": "markdown",
   "id": "djfvVHMnbJuR",
   "metadata": {
    "id": "djfvVHMnbJuR"
   },
   "source": [
    "**15.** Basado en los datos, calcula la probabilidad de que un país seleccionado al azar sea de 'Sudamérica' Y tenga una `Categoria_Desarrollo` de 'Medio-Alto'."
   ]
  },
  {
   "cell_type": "code",
   "execution_count": null,
   "id": "Lhog8Pi4bJuR",
   "metadata": {
    "colab": {
     "base_uri": "https://localhost:8080/"
    },
    "id": "Lhog8Pi4bJuR",
    "outputId": "6c9d3964-4e9a-44b1-ba97-069cfcaa9311"
   },
   "outputs": [
    {
     "name": "stdout",
     "output_type": "stream",
     "text": [
      "Probabilidad: 10.00%\n"
     ]
    }
   ],
   "source": [
    "import pandas as pd\n",
    "\n",
    "df = pd.DataFrame({\n",
    "    'Pais': ['Perú','Argentina','Chile','Colombia','Brasil','México','Uruguay','España','Canadá','Japón'],\n",
    "    'Continente': ['Sudamérica']*5 + ['Norteamérica','Sudamérica','Europa','Norteamérica','Asia'],\n",
    "    'PBI_per_capita': [7020,9912,15000,6500,8717,9863,16190,29600,46194,40700]\n",
    "})\n",
    "\n",
    "df['Categoria'] = pd.cut(df['PBI_per_capita'], bins=[0,5000,15000,30000,float('inf')],\n",
    "                         labels=['Bajo','Medio','Medio-Alto','Alto'])\n",
    "\n",
    "print(f\"Probabilidad: {( (df['Continente']=='Sudamérica') & (df['Categoria']=='Medio-Alto') ).mean()*100:.2f}%\")"
   ]
  }
 ],
 "metadata": {
  "colab": {
   "provenance": []
  },
  "kernelspec": {
   "display_name": "Python 3 (ipykernel)",
   "language": "python",
   "name": "python3"
  },
  "language_info": {
   "codemirror_mode": {
    "name": "ipython",
    "version": 3
   },
   "file_extension": ".py",
   "mimetype": "text/x-python",
   "name": "python",
   "nbconvert_exporter": "python",
   "pygments_lexer": "ipython3",
   "version": "3.11.5"
  }
 },
 "nbformat": 4,
 "nbformat_minor": 5
}
